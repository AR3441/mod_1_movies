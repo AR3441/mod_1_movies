{
 "cells": [
  {
   "cell_type": "code",
   "execution_count": 18,
   "metadata": {},
   "outputs": [],
   "source": [
    "import requests \n",
    "import pandas as pd\n",
    "from config import omdb_key"
   ]
  },
  {
   "cell_type": "code",
   "execution_count": 20,
   "metadata": {},
   "outputs": [],
   "source": [
    "def omdb_request(movie_title):\n",
    "    seperator = '+'\n",
    "    title_url = seperator.join(movie_title.split())\n",
    "    url = 'http://www.omdbapi.com/?' + 't=' + title_url + '&apikey=' + omdb_key\n",
    "    r = requests.get(url)\n",
    "    return r.json()"
   ]
  },
  {
   "cell_type": "code",
   "execution_count": 21,
   "metadata": {},
   "outputs": [],
   "source": [
    "def bom_db(year):\n",
    "    url = 'https://www.boxofficemojo.com/yearly/chart/?view2=worldwide&yr=' + str(year)+'&p=.htm'\n",
    "    r = pd.read_html(requests.get(url).content)\n",
    "    test_df = r[1]\n",
    "    df = test_df.iloc[:,0:8]\n",
    "    \n",
    "    df.columns = ['Rank', 'Title', 'Studio', 'Worldwide Gross', 'Domestic Gross', \n",
    "                   'Domestic %','Overseas Gross' ,'Overseas %']\n",
    "\n",
    "    df['Year'] = year\n",
    "    df.drop([0,1,2], inplace=True)\n",
    "    df.reset_index(inplace=True)\n",
    "    df.drop(columns=['index', 'Rank'], inplace=True)\n",
    "    return df"
   ]
  },
  {
   "cell_type": "code",
   "execution_count": 19,
   "metadata": {},
   "outputs": [
    {
     "data": {
      "text/plain": [
       "{'Title': 'Harry Potter and the Deathly Hallows: Part 2',\n",
       " 'Year': '2011',\n",
       " 'Rated': 'PG-13',\n",
       " 'Released': '15 Jul 2011',\n",
       " 'Runtime': '130 min',\n",
       " 'Genre': 'Adventure, Drama, Fantasy, Mystery',\n",
       " 'Director': 'David Yates',\n",
       " 'Writer': 'Steve Kloves (screenplay), J.K. Rowling (novel)',\n",
       " 'Actors': 'Ralph Fiennes, Michael Gambon, Alan Rickman, Daniel Radcliffe',\n",
       " 'Plot': \"Harry, Ron, and Hermione search for Voldemort's remaining Horcruxes in their effort to destroy the Dark Lord as the final battle rages on at Hogwarts.\",\n",
       " 'Language': 'English',\n",
       " 'Country': 'USA, UK',\n",
       " 'Awards': 'Nominated for 3 Oscars. Another 45 wins & 91 nominations.',\n",
       " 'Poster': 'https://m.media-amazon.com/images/M/MV5BMjIyZGU4YzUtNDkzYi00ZDRhLTljYzctYTMxMDQ4M2E0Y2YxXkEyXkFqcGdeQXVyNTIzOTk5ODM@._V1_SX300.jpg',\n",
       " 'Ratings': [{'Source': 'Internet Movie Database', 'Value': '8.1/10'},\n",
       "  {'Source': 'Rotten Tomatoes', 'Value': '96%'},\n",
       "  {'Source': 'Metacritic', 'Value': '87/100'}],\n",
       " 'Metascore': '87',\n",
       " 'imdbRating': '8.1',\n",
       " 'imdbVotes': '681,981',\n",
       " 'imdbID': 'tt1201607',\n",
       " 'Type': 'movie',\n",
       " 'DVD': '11 Nov 2011',\n",
       " 'BoxOffice': '$381,000,185',\n",
       " 'Production': 'Warner Bros. Pictures',\n",
       " 'Website': 'http://www.HarryPotter.com/',\n",
       " 'Response': 'True'}"
      ]
     },
     "execution_count": 19,
     "metadata": {},
     "output_type": "execute_result"
    }
   ],
   "source": [
    "temp_info = omdb_request('harry potter')\n",
    "temp_info\n"
   ]
  },
  {
   "cell_type": "code",
   "execution_count": 14,
   "metadata": {},
   "outputs": [],
   "source": [
    "def omdb_request(movie_title):\n",
    "    seperator = '+'\n",
    "    title_url = seperator.join(movie_title.split())\n",
    "    url = 'http://www.omdbapi.com/?' + 't=' + title_url + '&apikey=' + omdb_key\n",
    "    r = requests.get(url)\n",
    "    return r.json()\n",
    "    \n",
    "\n",
    "    \n",
    "    "
   ]
  },
  {
   "cell_type": "code",
   "execution_count": 135,
   "metadata": {},
   "outputs": [
    {
     "data": {
      "text/plain": [
       "[{'Source': 'Internet Movie Database', 'Value': '8.3/10'},\n",
       " {'Source': 'Rotten Tomatoes', 'Value': '100%'},\n",
       " {'Source': 'Metacritic', 'Value': '95/100'}]"
      ]
     },
     "execution_count": 135,
     "metadata": {},
     "output_type": "execute_result"
    }
   ],
   "source": [
    "temp_info['Ratings'] #first index is IMDB, rotten tomatoes, metacritic"
   ]
  },
  {
   "cell_type": "code",
   "execution_count": 40,
   "metadata": {},
   "outputs": [
    {
     "data": {
      "text/plain": [
       "[{'Source': 'Internet Movie Database', 'Value': '8.3/10'},\n",
       " {'Source': 'Rotten Tomatoes', 'Value': '100%'},\n",
       " {'Source': 'Metacritic', 'Value': '95/100'}]"
      ]
     },
     "execution_count": 40,
     "metadata": {},
     "output_type": "execute_result"
    }
   ],
   "source": [
    "data['Ratings']"
   ]
  },
  {
   "cell_type": "code",
   "execution_count": null,
   "metadata": {},
   "outputs": [],
   "source": [
    "#######\n",
    "#Function to scrape data from box office mojo \n",
    "#######"
   ]
  },
  {
   "cell_type": "code",
   "execution_count": 23,
   "metadata": {},
   "outputs": [],
   "source": [
    "df_2014 = bom_db(2014)"
   ]
  },
  {
   "cell_type": "code",
   "execution_count": 25,
   "metadata": {},
   "outputs": [
    {
     "data": {
      "text/html": [
       "<div>\n",
       "<style scoped>\n",
       "    .dataframe tbody tr th:only-of-type {\n",
       "        vertical-align: middle;\n",
       "    }\n",
       "\n",
       "    .dataframe tbody tr th {\n",
       "        vertical-align: top;\n",
       "    }\n",
       "\n",
       "    .dataframe thead th {\n",
       "        text-align: right;\n",
       "    }\n",
       "</style>\n",
       "<table border=\"1\" class=\"dataframe\">\n",
       "  <thead>\n",
       "    <tr style=\"text-align: right;\">\n",
       "      <th></th>\n",
       "      <th>Year</th>\n",
       "    </tr>\n",
       "  </thead>\n",
       "  <tbody>\n",
       "    <tr>\n",
       "      <th>count</th>\n",
       "      <td>394.0</td>\n",
       "    </tr>\n",
       "    <tr>\n",
       "      <th>mean</th>\n",
       "      <td>2014.0</td>\n",
       "    </tr>\n",
       "    <tr>\n",
       "      <th>std</th>\n",
       "      <td>0.0</td>\n",
       "    </tr>\n",
       "    <tr>\n",
       "      <th>min</th>\n",
       "      <td>2014.0</td>\n",
       "    </tr>\n",
       "    <tr>\n",
       "      <th>25%</th>\n",
       "      <td>2014.0</td>\n",
       "    </tr>\n",
       "    <tr>\n",
       "      <th>50%</th>\n",
       "      <td>2014.0</td>\n",
       "    </tr>\n",
       "    <tr>\n",
       "      <th>75%</th>\n",
       "      <td>2014.0</td>\n",
       "    </tr>\n",
       "    <tr>\n",
       "      <th>max</th>\n",
       "      <td>2014.0</td>\n",
       "    </tr>\n",
       "  </tbody>\n",
       "</table>\n",
       "</div>"
      ],
      "text/plain": [
       "         Year\n",
       "count   394.0\n",
       "mean   2014.0\n",
       "std       0.0\n",
       "min    2014.0\n",
       "25%    2014.0\n",
       "50%    2014.0\n",
       "75%    2014.0\n",
       "max    2014.0"
      ]
     },
     "execution_count": 25,
     "metadata": {},
     "output_type": "execute_result"
    }
   ],
   "source": [
    "df_2014.describe()"
   ]
  }
 ],
 "metadata": {
  "kernelspec": {
   "display_name": "Python 3",
   "language": "python",
   "name": "python3"
  },
  "language_info": {
   "codemirror_mode": {
    "name": "ipython",
    "version": 3
   },
   "file_extension": ".py",
   "mimetype": "text/x-python",
   "name": "python",
   "nbconvert_exporter": "python",
   "pygments_lexer": "ipython3",
   "version": "3.7.1"
  }
 },
 "nbformat": 4,
 "nbformat_minor": 2
}

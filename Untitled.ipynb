{
 "cells": [
  {
   "cell_type": "code",
   "execution_count": 19,
   "metadata": {},
   "outputs": [],
   "source": [
    "import requests \n",
    "from config import omdb_key\n",
    "import pandas as pd\n"
   ]
  },
  {
   "cell_type": "code",
   "execution_count": null,
   "metadata": {},
   "outputs": [],
   "source": [
    "def omdb_request(movie_title):\n",
    "    seperator = '+'\n",
    "    title_url = seperator.join(movie_title.split())\n",
    "    url = 'http://www.omdbapi.com/?' + 't=' + title_url + '&apikey=' + omdb_key\n",
    "    r = requests.get(url)\n",
    "    return r.json()"
   ]
  },
  {
   "cell_type": "code",
   "execution_count": 9,
   "metadata": {},
   "outputs": [],
   "source": [
    "temp_info = omdb_request('Toy Story')\n"
   ]
  },
  {
   "cell_type": "code",
   "execution_count": 8,
   "metadata": {},
   "outputs": [],
   "source": [
    "\n",
    "    \n",
    "    "
   ]
  },
  {
   "cell_type": "code",
   "execution_count": 10,
   "metadata": {},
   "outputs": [],
   "source": [
    "r = requests.get(url)\n",
    "#http://www.omdbapi.com/?i=tt3896198&apikey=507228e9 example url\n",
    "#http://www.omdbapi.com/?t=shawshank+redemption"
   ]
  },
  {
   "cell_type": "code",
   "execution_count": 11,
   "metadata": {},
   "outputs": [
    {
     "data": {
      "text/plain": [
       "{'Title': 'Toy Story',\n",
       " 'Year': '1995',\n",
       " 'Rated': 'G',\n",
       " 'Released': '22 Nov 1995',\n",
       " 'Runtime': '81 min',\n",
       " 'Genre': 'Animation, Adventure, Comedy, Family, Fantasy',\n",
       " 'Director': 'John Lasseter',\n",
       " 'Writer': 'John Lasseter (original story by), Pete Docter (original story by), Andrew Stanton (original story by), Joe Ranft (original story by), Joss Whedon (screenplay by), Andrew Stanton (screenplay by), Joel Cohen (screenplay by), Alec Sokolow (screenplay by)',\n",
       " 'Actors': 'Tom Hanks, Tim Allen, Don Rickles, Jim Varney',\n",
       " 'Plot': \"A cowboy doll is profoundly threatened and jealous when a new spaceman figure supplants him as top toy in a boy's room.\",\n",
       " 'Language': 'English',\n",
       " 'Country': 'USA',\n",
       " 'Awards': 'Nominated for 3 Oscars. Another 23 wins & 17 nominations.',\n",
       " 'Poster': 'https://m.media-amazon.com/images/M/MV5BMDU2ZWJlMjktMTRhMy00ZTA5LWEzNDgtYmNmZTEwZTViZWJkXkEyXkFqcGdeQXVyNDQ2OTk4MzI@._V1_SX300.jpg',\n",
       " 'Ratings': [{'Source': 'Internet Movie Database', 'Value': '8.3/10'},\n",
       "  {'Source': 'Rotten Tomatoes', 'Value': '100%'},\n",
       "  {'Source': 'Metacritic', 'Value': '95/100'}],\n",
       " 'Metascore': '95',\n",
       " 'imdbRating': '8.3',\n",
       " 'imdbVotes': '778,821',\n",
       " 'imdbID': 'tt0114709',\n",
       " 'Type': 'movie',\n",
       " 'DVD': '20 Mar 2001',\n",
       " 'BoxOffice': 'N/A',\n",
       " 'Production': 'Buena Vista',\n",
       " 'Website': 'http://www.disney.com/ToyStory',\n",
       " 'Response': 'True'}"
      ]
     },
     "execution_count": 11,
     "metadata": {},
     "output_type": "execute_result"
    }
   ],
   "source": [
    "temp_info"
   ]
  },
  {
   "cell_type": "code",
   "execution_count": 21,
   "metadata": {},
   "outputs": [],
   "source": [
    "ratings = temp_info['Ratings'] #first index is IMDB, rotten tomatoes, metacritic"
   ]
  },
  {
   "cell_type": "code",
   "execution_count": 26,
   "metadata": {},
   "outputs": [
    {
     "name": "stdout",
     "output_type": "stream",
     "text": [
      "Internet Movie Database 8.3/10\n",
      "Rotten Tomatoes 100%\n",
      "Metacritic 95/100\n"
     ]
    }
   ],
   "source": [
    "for rating in ratings:\n",
    "    print(rating['Source'],rating['Value'])"
   ]
  },
  {
   "cell_type": "code",
   "execution_count": 36,
   "metadata": {},
   "outputs": [
    {
     "name": "stdout",
     "output_type": "stream",
     "text": [
      "8.3\n",
      "95\n",
      "100%\n"
     ]
    }
   ],
   "source": [
    "print(temp_info['imdbRating'])\n",
    "print(temp_info['Metascore'])\n",
    "print(temp_info['Ratings'][1]['Value'])"
   ]
  },
  {
   "cell_type": "code",
   "execution_count": 37,
   "metadata": {},
   "outputs": [
    {
     "data": {
      "text/plain": [
       "str"
      ]
     },
     "execution_count": 37,
     "metadata": {},
     "output_type": "execute_result"
    }
   ],
   "source": [
    "type(temp_info['imdbRating'])\n",
    "type(temp_info['Metascore'])\n",
    "type(temp_info['Ratings'][1]['Value'])"
   ]
  },
  {
   "cell_type": "code",
   "execution_count": null,
   "metadata": {},
   "outputs": [],
   "source": [
    "#######\n",
    "#Function to scrape data from box office mojo \n",
    "#######"
   ]
  },
  {
   "cell_type": "code",
   "execution_count": 15,
   "metadata": {},
   "outputs": [],
   "source": [
    "import pandas as pd"
   ]
  },
  {
   "cell_type": "code",
   "execution_count": 40,
   "metadata": {},
   "outputs": [
    {
     "data": {
      "text/plain": [
       "'110'"
      ]
     },
     "execution_count": 40,
     "metadata": {},
     "output_type": "execute_result"
    }
   ],
   "source": [
    "percent = '110%'\n",
    "percent.split('%')[0]"
   ]
  },
  {
   "cell_type": "code",
   "execution_count": 16,
   "metadata": {},
   "outputs": [],
   "source": [
    "def bom_db(year):\n",
    "    url = 'https://www.boxofficemojo.com/yearly/chart/?view2=worldwide&yr=' + str(year)+'&p=.htm'\n",
    "    r = pd.read_html(requests.get(url).content)\n",
    "    test_df = r[1]\n",
    "    df = test_df.iloc[:,0:8]\n",
    "    \n",
    "    df.columns = ['Rank', 'Title', 'Studio', 'Worldwide Gross', 'Domestic Gross', \n",
    "                   'Domestic %','Overseas Gross' ,'Overseas %']\n",
    "\n",
    "    df['Year'] = year\n",
    "    df.drop([0,1,2], inplace=True)\n",
    "    df.reset_index(inplace=True)\n",
    "    df.drop(columns=['index', 'Rank'], inplace=True)\n",
    "    return df"
   ]
  },
  {
   "cell_type": "code",
   "execution_count": 27,
   "metadata": {},
   "outputs": [],
   "source": [
    "df_1989 = bom_db(1989)"
   ]
  },
  {
   "cell_type": "code",
   "execution_count": 29,
   "metadata": {},
   "outputs": [
    {
     "data": {
      "text/plain": [
       "'Dead Poets Society'"
      ]
     },
     "execution_count": 29,
     "metadata": {},
     "output_type": "execute_result"
    }
   ],
   "source": [
    "df_1989.Title[4]"
   ]
  },
  {
   "cell_type": "code",
   "execution_count": 31,
   "metadata": {},
   "outputs": [
    {
     "data": {
      "text/html": [
       "<div>\n",
       "<style scoped>\n",
       "    .dataframe tbody tr th:only-of-type {\n",
       "        vertical-align: middle;\n",
       "    }\n",
       "\n",
       "    .dataframe tbody tr th {\n",
       "        vertical-align: top;\n",
       "    }\n",
       "\n",
       "    .dataframe thead th {\n",
       "        text-align: right;\n",
       "    }\n",
       "</style>\n",
       "<table border=\"1\" class=\"dataframe\">\n",
       "  <thead>\n",
       "    <tr style=\"text-align: right;\">\n",
       "      <th></th>\n",
       "      <th>Title</th>\n",
       "      <th>Studio</th>\n",
       "      <th>Worldwide Gross</th>\n",
       "      <th>Domestic Gross</th>\n",
       "      <th>Domestic %</th>\n",
       "      <th>Overseas Gross</th>\n",
       "      <th>Overseas %</th>\n",
       "      <th>Year</th>\n",
       "    </tr>\n",
       "  </thead>\n",
       "  <tbody>\n",
       "    <tr>\n",
       "      <th>0</th>\n",
       "      <td>Indiana Jones and the Last Crusade</td>\n",
       "      <td>Par.</td>\n",
       "      <td>$474.2</td>\n",
       "      <td>$197.2</td>\n",
       "      <td>41.6%</td>\n",
       "      <td>$277.0</td>\n",
       "      <td>58.4%</td>\n",
       "      <td>1989</td>\n",
       "    </tr>\n",
       "    <tr>\n",
       "      <th>1</th>\n",
       "      <td>Batman</td>\n",
       "      <td>WB</td>\n",
       "      <td>$411.3</td>\n",
       "      <td>$251.2</td>\n",
       "      <td>61.1%</td>\n",
       "      <td>$160.2</td>\n",
       "      <td>38.9%</td>\n",
       "      <td>1989</td>\n",
       "    </tr>\n",
       "    <tr>\n",
       "      <th>2</th>\n",
       "      <td>Back to the Future Part II</td>\n",
       "      <td>Uni.</td>\n",
       "      <td>$332.0</td>\n",
       "      <td>$118.5</td>\n",
       "      <td>35.7%</td>\n",
       "      <td>$213.5</td>\n",
       "      <td>64.3%</td>\n",
       "      <td>1989</td>\n",
       "    </tr>\n",
       "    <tr>\n",
       "      <th>3</th>\n",
       "      <td>Look Who's Talking</td>\n",
       "      <td>TriS</td>\n",
       "      <td>$297.0</td>\n",
       "      <td>$140.1</td>\n",
       "      <td>47.2%</td>\n",
       "      <td>$156.9</td>\n",
       "      <td>52.8%</td>\n",
       "      <td>1989</td>\n",
       "    </tr>\n",
       "    <tr>\n",
       "      <th>4</th>\n",
       "      <td>Dead Poets Society</td>\n",
       "      <td>BV</td>\n",
       "      <td>$235.9</td>\n",
       "      <td>$95.9</td>\n",
       "      <td>40.6%</td>\n",
       "      <td>$140.0</td>\n",
       "      <td>59.4%</td>\n",
       "      <td>1989</td>\n",
       "    </tr>\n",
       "  </tbody>\n",
       "</table>\n",
       "</div>"
      ],
      "text/plain": [
       "                                Title Studio Worldwide Gross Domestic Gross  \\\n",
       "0  Indiana Jones and the Last Crusade   Par.          $474.2         $197.2   \n",
       "1                              Batman     WB          $411.3         $251.2   \n",
       "2          Back to the Future Part II   Uni.          $332.0         $118.5   \n",
       "3                  Look Who's Talking   TriS          $297.0         $140.1   \n",
       "4                  Dead Poets Society     BV          $235.9          $95.9   \n",
       "\n",
       "  Domestic % Overseas Gross Overseas %  Year  \n",
       "0      41.6%         $277.0      58.4%  1989  \n",
       "1      61.1%         $160.2      38.9%  1989  \n",
       "2      35.7%         $213.5      64.3%  1989  \n",
       "3      47.2%         $156.9      52.8%  1989  \n",
       "4      40.6%         $140.0      59.4%  1989  "
      ]
     },
     "execution_count": 31,
     "metadata": {},
     "output_type": "execute_result"
    }
   ],
   "source": [
    "df_1989.head()"
   ]
  },
  {
   "cell_type": "code",
   "execution_count": 30,
   "metadata": {},
   "outputs": [
    {
     "data": {
      "text/plain": [
       "{'Title': 'Dead Poets Society',\n",
       " 'Year': '1989',\n",
       " 'Rated': 'PG',\n",
       " 'Released': '09 Jun 1989',\n",
       " 'Runtime': '128 min',\n",
       " 'Genre': 'Comedy, Drama',\n",
       " 'Director': 'Peter Weir',\n",
       " 'Writer': 'Tom Schulman',\n",
       " 'Actors': 'Robin Williams, Robert Sean Leonard, Ethan Hawke, Josh Charles',\n",
       " 'Plot': 'English teacher John Keating inspires his students to look at poetry with a different perspective of authentic knowledge and feelings.',\n",
       " 'Language': 'English, Latin',\n",
       " 'Country': 'USA',\n",
       " 'Awards': 'Won 1 Oscar. Another 18 wins & 18 nominations.',\n",
       " 'Poster': 'https://m.media-amazon.com/images/M/MV5BOGYwYWNjMzgtNGU4ZC00NWQ2LWEwZjUtMzE1Zjc3NjY3YTU1XkEyXkFqcGdeQXVyMTQxNzMzNDI@._V1_SX300.jpg',\n",
       " 'Ratings': [{'Source': 'Internet Movie Database', 'Value': '8.1/10'},\n",
       "  {'Source': 'Rotten Tomatoes', 'Value': '84%'},\n",
       "  {'Source': 'Metacritic', 'Value': '79/100'}],\n",
       " 'Metascore': '79',\n",
       " 'imdbRating': '8.1',\n",
       " 'imdbVotes': '359,804',\n",
       " 'imdbID': 'tt0097165',\n",
       " 'Type': 'movie',\n",
       " 'DVD': '10 Nov 1998',\n",
       " 'BoxOffice': 'N/A',\n",
       " 'Production': 'Buena Vista Pictures',\n",
       " 'Website': 'N/A',\n",
       " 'Response': 'True'}"
      ]
     },
     "execution_count": 30,
     "metadata": {},
     "output_type": "execute_result"
    }
   ],
   "source": [
    "for title in df_1989.Title:\n",
    "    title_data = omdb_request(title) #Requests omdb to get data about specific movie\n",
    "    \n",
    "    imdbrating = float(title_data['imdbRating'])\n",
    "    metascore = int(title_data['Metascore'])\n",
    "    rtom_score = title_data['Ratings'][1]['Value'].split('%')[0]\n",
    "    ratings_df = pd.DataFrame()\n",
    "    "
   ]
  },
  {
   "cell_type": "code",
   "execution_count": null,
   "metadata": {},
   "outputs": [],
   "source": []
  },
  {
   "cell_type": "code",
   "execution_count": null,
   "metadata": {},
   "outputs": [],
   "source": []
  },
  {
   "cell_type": "code",
   "execution_count": null,
   "metadata": {},
   "outputs": [],
   "source": []
  }
 ],
 "metadata": {
  "kernelspec": {
   "display_name": "Python 3",
   "language": "python",
   "name": "python3"
  },
  "language_info": {
   "codemirror_mode": {
    "name": "ipython",
    "version": 3
   },
   "file_extension": ".py",
   "mimetype": "text/x-python",
   "name": "python",
   "nbconvert_exporter": "python",
   "pygments_lexer": "ipython3",
   "version": "3.7.1"
  }
 },
 "nbformat": 4,
 "nbformat_minor": 2
}

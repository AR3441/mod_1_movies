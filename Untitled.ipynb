{
 "cells": [
  {
   "cell_type": "code",
   "execution_count": 125,
   "metadata": {},
   "outputs": [
    {
     "data": {
      "text/plain": [
       "'http://www.omdbapi.com/?t=Toy+Story&apikey=507228e9'"
      ]
     },
     "execution_count": 125,
     "metadata": {},
     "output_type": "execute_result"
    }
   ],
   "source": [
    "import requests \n",
    "from config import omdb_key\n",
    "movie = 'Shawshank Redemption'\n",
    "url = 'http://www.omdbapi.com/?'+'t=' + 'Toy+Story' +'&apikey=' + omdb_key  \n",
    "url"
   ]
  },
  {
   "cell_type": "code",
   "execution_count": 132,
   "metadata": {},
   "outputs": [],
   "source": [
    "temp_info = omdb_request('Toy Story')\n"
   ]
  },
  {
   "cell_type": "code",
   "execution_count": 130,
   "metadata": {},
   "outputs": [],
   "source": [
    "def omdb_request(movie_title):\n",
    "    import requests\n",
    "    from config import omdb_key\n",
    "    seperator = '+'\n",
    "    title_url = seperator.join(movie_title.split())\n",
    "    url = 'http://www.omdbapi.com/?' + 't=' + title_url + '&apikey=' + omdb_key\n",
    "    r = requests.get(url)\n",
    "    return r.json()\n",
    "    \n",
    "    "
   ]
  },
  {
   "cell_type": "code",
   "execution_count": 121,
   "metadata": {},
   "outputs": [],
   "source": [
    "r = requests.get(url)\n",
    "#http://www.omdbapi.com/?i=tt3896198&apikey=507228e9 example url\n",
    "#http://www.omdbapi.com/?t=shawshank+redemption"
   ]
  },
  {
   "cell_type": "code",
   "execution_count": 134,
   "metadata": {},
   "outputs": [
    {
     "data": {
      "text/plain": [
       "{'Title': 'Toy Story',\n",
       " 'Year': '1995',\n",
       " 'Rated': 'G',\n",
       " 'Released': '22 Nov 1995',\n",
       " 'Runtime': '81 min',\n",
       " 'Genre': 'Animation, Adventure, Comedy, Family, Fantasy',\n",
       " 'Director': 'John Lasseter',\n",
       " 'Writer': 'John Lasseter (original story by), Pete Docter (original story by), Andrew Stanton (original story by), Joe Ranft (original story by), Joss Whedon (screenplay by), Andrew Stanton (screenplay by), Joel Cohen (screenplay by), Alec Sokolow (screenplay by)',\n",
       " 'Actors': 'Tom Hanks, Tim Allen, Don Rickles, Jim Varney',\n",
       " 'Plot': \"A cowboy doll is profoundly threatened and jealous when a new spaceman figure supplants him as top toy in a boy's room.\",\n",
       " 'Language': 'English',\n",
       " 'Country': 'USA',\n",
       " 'Awards': 'Nominated for 3 Oscars. Another 23 wins & 17 nominations.',\n",
       " 'Poster': 'https://m.media-amazon.com/images/M/MV5BMDU2ZWJlMjktMTRhMy00ZTA5LWEzNDgtYmNmZTEwZTViZWJkXkEyXkFqcGdeQXVyNDQ2OTk4MzI@._V1_SX300.jpg',\n",
       " 'Ratings': [{'Source': 'Internet Movie Database', 'Value': '8.3/10'},\n",
       "  {'Source': 'Rotten Tomatoes', 'Value': '100%'},\n",
       "  {'Source': 'Metacritic', 'Value': '95/100'}],\n",
       " 'Metascore': '95',\n",
       " 'imdbRating': '8.3',\n",
       " 'imdbVotes': '778,821',\n",
       " 'imdbID': 'tt0114709',\n",
       " 'Type': 'movie',\n",
       " 'DVD': '20 Mar 2001',\n",
       " 'BoxOffice': 'N/A',\n",
       " 'Production': 'Buena Vista',\n",
       " 'Website': 'http://www.disney.com/ToyStory',\n",
       " 'Response': 'True'}"
      ]
     },
     "execution_count": 134,
     "metadata": {},
     "output_type": "execute_result"
    }
   ],
   "source": [
    "temp_info"
   ]
  },
  {
   "cell_type": "code",
   "execution_count": 135,
   "metadata": {},
   "outputs": [
    {
     "data": {
      "text/plain": [
       "[{'Source': 'Internet Movie Database', 'Value': '8.3/10'},\n",
       " {'Source': 'Rotten Tomatoes', 'Value': '100%'},\n",
       " {'Source': 'Metacritic', 'Value': '95/100'}]"
      ]
     },
     "execution_count": 135,
     "metadata": {},
     "output_type": "execute_result"
    }
   ],
   "source": [
    "temp_info['Ratings'] #first index is IMDB, rotten tomatoes, metacritic"
   ]
  },
  {
   "cell_type": "code",
   "execution_count": 40,
   "metadata": {},
   "outputs": [
    {
     "data": {
      "text/plain": [
       "[{'Source': 'Internet Movie Database', 'Value': '8.3/10'},\n",
       " {'Source': 'Rotten Tomatoes', 'Value': '100%'},\n",
       " {'Source': 'Metacritic', 'Value': '95/100'}]"
      ]
     },
     "execution_count": 40,
     "metadata": {},
     "output_type": "execute_result"
    }
   ],
   "source": [
    "data['Ratings']"
   ]
  },
  {
   "cell_type": "code",
   "execution_count": null,
   "metadata": {},
   "outputs": [],
   "source": [
    "#######\n",
    "#Function to scrape data from box office mojo \n",
    "#######"
   ]
  },
  {
   "cell_type": "code",
   "execution_count": 4,
   "metadata": {},
   "outputs": [],
   "source": [
    "import pandas as pd"
   ]
  },
  {
   "cell_type": "code",
   "execution_count": 10,
   "metadata": {},
   "outputs": [],
   "source": []
  },
  {
   "cell_type": "code",
   "execution_count": 6,
   "metadata": {},
   "outputs": [],
   "source": [
    "def bom_db(year):\n",
    "    url = 'https://www.boxofficemojo.com/yearly/chart/?view2=worldwide&yr=' + str(year)+'&p=.htm'\n",
    "    r = pd.read_html(requests.get(url).content)\n",
    "    test_df = r[1]\n",
    "    df = test_df.iloc[:,0:8]\n",
    "    \n",
    "    df.columns = ['Rank', 'Title', 'Studio', 'Worldwide Gross', 'Domestic Gross', \n",
    "                   'Domestic %','Overseas Gross' ,'Overseas %']\n",
    "\n",
    "    df['Year'] = year\n",
    "    df.drop([0,1,2], inplace=True)\n",
    "    df.reset_index(inplace=True)\n",
    "    df.drop(columns=['index', 'Rank'], inplace=True)\n",
    "    return df"
   ]
  },
  {
   "cell_type": "code",
   "execution_count": 7,
   "metadata": {},
   "outputs": [],
   "source": [
    "df_2014 = bom_db(2014)"
   ]
  },
  {
   "cell_type": "code",
   "execution_count": 99,
   "metadata": {},
   "outputs": [
    {
     "data": {
      "text/plain": [
       "'The Hunger Games: Mockingjay - Part 1'"
      ]
     },
     "execution_count": 99,
     "metadata": {},
     "output_type": "execute_result"
    }
   ],
   "source": [
    "df_2014.Title[4]"
   ]
  },
  {
   "cell_type": "code",
   "execution_count": null,
   "metadata": {},
   "outputs": [],
   "source": []
  },
  {
   "cell_type": "code",
   "execution_count": null,
   "metadata": {},
   "outputs": [],
   "source": []
  },
  {
   "cell_type": "code",
   "execution_count": null,
   "metadata": {},
   "outputs": [],
   "source": []
  },
  {
   "cell_type": "code",
   "execution_count": null,
   "metadata": {},
   "outputs": [],
   "source": []
  },
  {
   "cell_type": "code",
   "execution_count": null,
   "metadata": {},
   "outputs": [],
   "source": []
  }
 ],
 "metadata": {
  "kernelspec": {
   "display_name": "Python 3",
   "language": "python",
   "name": "python3"
  },
  "language_info": {
   "codemirror_mode": {
    "name": "ipython",
    "version": 3
   },
   "file_extension": ".py",
   "mimetype": "text/x-python",
   "name": "python",
   "nbconvert_exporter": "python",
   "pygments_lexer": "ipython3",
   "version": "3.7.1"
  }
 },
 "nbformat": 4,
 "nbformat_minor": 2
}
